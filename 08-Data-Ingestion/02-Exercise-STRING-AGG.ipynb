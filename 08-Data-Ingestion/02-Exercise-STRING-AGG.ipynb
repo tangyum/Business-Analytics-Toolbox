{
 "cells": [
  {
   "cell_type": "markdown",
   "metadata": {},
   "source": [
    "# Practice on STRING_AGG() & ARRAY_AGG()\n",
    "We will use the Google Analytics dataset `data-to-insights.ecommerce.all_sessions_raw`."
   ]
  },
  {
   "cell_type": "code",
   "execution_count": 1,
   "metadata": {},
   "outputs": [],
   "source": [
    "# This cell is to enable the \"hint\" functionality. After each question there is a cell with either a hint about the correct answer or the solution. \n",
    "from IPython.display import Pretty as disp\n",
    "hint = 'https://raw.githubusercontent.com/soltaniehha/Business-Analytics-Toolbox/master/docs/hints/'  # path to hints on GitHub"
   ]
  },
  {
   "cell_type": "markdown",
   "metadata": {},
   "source": [
    "Question: Find out how many product names and product SKUs are on the website?"
   ]
  },
  {
   "cell_type": "code",
   "execution_count": 2,
   "metadata": {},
   "outputs": [
    {
     "data": {
      "text/html": [
       "<div>\n",
       "<style scoped>\n",
       "    .dataframe tbody tr th:only-of-type {\n",
       "        vertical-align: middle;\n",
       "    }\n",
       "\n",
       "    .dataframe tbody tr th {\n",
       "        vertical-align: top;\n",
       "    }\n",
       "\n",
       "    .dataframe thead th {\n",
       "        text-align: right;\n",
       "    }\n",
       "</style>\n",
       "<table border=\"1\" class=\"dataframe\">\n",
       "  <thead>\n",
       "    <tr style=\"text-align: right;\">\n",
       "      <th></th>\n",
       "      <th>f0_</th>\n",
       "    </tr>\n",
       "  </thead>\n",
       "  <tbody>\n",
       "    <tr>\n",
       "      <th>0</th>\n",
       "      <td>2273</td>\n",
       "    </tr>\n",
       "  </tbody>\n",
       "</table>\n",
       "</div>"
      ],
      "text/plain": [
       "    f0_\n",
       "0  2273"
      ]
     },
     "execution_count": 2,
     "metadata": {},
     "output_type": "execute_result"
    }
   ],
   "source": [
    "%%bigquery\n",
    "SELECT COUNT(*) FROM \n",
    "(\n",
    "  SELECT DISTINCT productSKU, v2ProductName\n",
    "  FROM `data-to-insights.ecommerce.all_sessions_raw`\n",
    ")"
   ]
  },
  {
   "cell_type": "markdown",
   "metadata": {},
   "source": [
    "Now find the number of distinct SKUs:"
   ]
  },
  {
   "cell_type": "code",
   "execution_count": 3,
   "metadata": {},
   "outputs": [
    {
     "data": {
      "text/html": [
       "<div>\n",
       "<style scoped>\n",
       "    .dataframe tbody tr th:only-of-type {\n",
       "        vertical-align: middle;\n",
       "    }\n",
       "\n",
       "    .dataframe tbody tr th {\n",
       "        vertical-align: top;\n",
       "    }\n",
       "\n",
       "    .dataframe thead th {\n",
       "        text-align: right;\n",
       "    }\n",
       "</style>\n",
       "<table border=\"1\" class=\"dataframe\">\n",
       "  <thead>\n",
       "    <tr style=\"text-align: right;\">\n",
       "      <th></th>\n",
       "      <th>f0_</th>\n",
       "    </tr>\n",
       "  </thead>\n",
       "  <tbody>\n",
       "    <tr>\n",
       "      <th>0</th>\n",
       "      <td>1909</td>\n",
       "    </tr>\n",
       "  </tbody>\n",
       "</table>\n",
       "</div>"
      ],
      "text/plain": [
       "    f0_\n",
       "0  1909"
      ]
     },
     "execution_count": 3,
     "metadata": {},
     "output_type": "execute_result"
    }
   ],
   "source": [
    "%%bigquery\n",
    "SELECT COUNT(DISTINCT productSKU) \n",
    "FROM `data-to-insights.ecommerce.all_sessions_raw`"
   ]
  },
  {
   "cell_type": "markdown",
   "metadata": {},
   "source": [
    "Obviously these numbers do not match which indicates that there are duplications. Let's determine which products have more than one SKU and which SKUs have more than one Product Name.\n",
    "\n",
    "Let's determine if some product names have more than one SKU:"
   ]
  },
  {
   "cell_type": "code",
   "execution_count": 4,
   "metadata": {},
   "outputs": [
    {
     "data": {
      "text/html": [
       "<div>\n",
       "<style scoped>\n",
       "    .dataframe tbody tr th:only-of-type {\n",
       "        vertical-align: middle;\n",
       "    }\n",
       "\n",
       "    .dataframe tbody tr th {\n",
       "        vertical-align: top;\n",
       "    }\n",
       "\n",
       "    .dataframe thead th {\n",
       "        text-align: right;\n",
       "    }\n",
       "</style>\n",
       "<table border=\"1\" class=\"dataframe\">\n",
       "  <thead>\n",
       "    <tr style=\"text-align: right;\">\n",
       "      <th></th>\n",
       "      <th>v2ProductName</th>\n",
       "      <th>SKU_count</th>\n",
       "      <th>SKU</th>\n",
       "    </tr>\n",
       "  </thead>\n",
       "  <tbody>\n",
       "    <tr>\n",
       "      <th>0</th>\n",
       "      <td>Waze Women's Typography Short Sleeve Tee</td>\n",
       "      <td>12</td>\n",
       "      <td>GGOEWXXX0834,9184710,9184705,9184711,9184707</td>\n",
       "    </tr>\n",
       "    <tr>\n",
       "      <th>1</th>\n",
       "      <td>Google Sunglasses</td>\n",
       "      <td>10</td>\n",
       "      <td>9180829,GGOEGAAX0037,GGOEGHGH019699,GGOEGHGR01...</td>\n",
       "    </tr>\n",
       "    <tr>\n",
       "      <th>2</th>\n",
       "      <td>Google Men's Watershed Full Zip Hoodie Grey</td>\n",
       "      <td>10</td>\n",
       "      <td>GGOEGAAX0568,9182739,9182383,9182382,GGOEGADJ0...</td>\n",
       "    </tr>\n",
       "    <tr>\n",
       "      <th>3</th>\n",
       "      <td>Google Women's Insulated Thermal Vest Navy</td>\n",
       "      <td>10</td>\n",
       "      <td>9182760,GGOEGAAX0585,GGOEGAPL058514,GGOEGAPL05...</td>\n",
       "    </tr>\n",
       "    <tr>\n",
       "      <th>4</th>\n",
       "      <td>Android Women's Short Sleeve Badge Tee Dark He...</td>\n",
       "      <td>10</td>\n",
       "      <td>GGOEGAAX0282,9182176,9182179,GGOEAAEJ028213,GG...</td>\n",
       "    </tr>\n",
       "    <tr>\n",
       "      <th>...</th>\n",
       "      <td>...</td>\n",
       "      <td>...</td>\n",
       "      <td>...</td>\n",
       "    </tr>\n",
       "    <tr>\n",
       "      <th>488</th>\n",
       "      <td>Android Stretch Fit Hat Charcoal</td>\n",
       "      <td>2</td>\n",
       "      <td>GGOEGAAX0042,9182706</td>\n",
       "    </tr>\n",
       "    <tr>\n",
       "      <th>489</th>\n",
       "      <td>Android 24 oz Button Lid Sport Water Bottle Green</td>\n",
       "      <td>2</td>\n",
       "      <td>9180751,GGOEADHH015499</td>\n",
       "    </tr>\n",
       "    <tr>\n",
       "      <th>490</th>\n",
       "      <td>Google Leather Journal (Black)</td>\n",
       "      <td>2</td>\n",
       "      <td>GGOEGOCB078299,9183221</td>\n",
       "    </tr>\n",
       "    <tr>\n",
       "      <th>491</th>\n",
       "      <td>Men's Lotus 1/4 Zip</td>\n",
       "      <td>2</td>\n",
       "      <td>GGOEGADX0448,9182401</td>\n",
       "    </tr>\n",
       "    <tr>\n",
       "      <th>492</th>\n",
       "      <td>Android 24 oz Button Lid Sport Water Bottle</td>\n",
       "      <td>2</td>\n",
       "      <td>9180750,GGOEGAAX0127</td>\n",
       "    </tr>\n",
       "  </tbody>\n",
       "</table>\n",
       "<p>493 rows × 3 columns</p>\n",
       "</div>"
      ],
      "text/plain": [
       "                                         v2ProductName  SKU_count  \\\n",
       "0             Waze Women's Typography Short Sleeve Tee         12   \n",
       "1                                    Google Sunglasses         10   \n",
       "2          Google Men's Watershed Full Zip Hoodie Grey         10   \n",
       "3           Google Women's Insulated Thermal Vest Navy         10   \n",
       "4    Android Women's Short Sleeve Badge Tee Dark He...         10   \n",
       "..                                                 ...        ...   \n",
       "488                   Android Stretch Fit Hat Charcoal          2   \n",
       "489  Android 24 oz Button Lid Sport Water Bottle Green          2   \n",
       "490                     Google Leather Journal (Black)          2   \n",
       "491                                Men's Lotus 1/4 Zip          2   \n",
       "492        Android 24 oz Button Lid Sport Water Bottle          2   \n",
       "\n",
       "                                                   SKU  \n",
       "0         GGOEWXXX0834,9184710,9184705,9184711,9184707  \n",
       "1    9180829,GGOEGAAX0037,GGOEGHGH019699,GGOEGHGR01...  \n",
       "2    GGOEGAAX0568,9182739,9182383,9182382,GGOEGADJ0...  \n",
       "3    9182760,GGOEGAAX0585,GGOEGAPL058514,GGOEGAPL05...  \n",
       "4    GGOEGAAX0282,9182176,9182179,GGOEAAEJ028213,GG...  \n",
       "..                                                 ...  \n",
       "488                               GGOEGAAX0042,9182706  \n",
       "489                             9180751,GGOEADHH015499  \n",
       "490                             GGOEGOCB078299,9183221  \n",
       "491                               GGOEGADX0448,9182401  \n",
       "492                               9180750,GGOEGAAX0127  \n",
       "\n",
       "[493 rows x 3 columns]"
      ]
     },
     "execution_count": 4,
     "metadata": {},
     "output_type": "execute_result"
    }
   ],
   "source": [
    "%%bigquery\n",
    "SELECT\n",
    "  v2ProductName,\n",
    "  COUNT(DISTINCT productSKU) AS SKU_count,\n",
    "  STRING_AGG(DISTINCT productSKU LIMIT 5) AS SKU\n",
    "FROM `data-to-insights.ecommerce.all_sessions_raw`\n",
    "WHERE productSKU IS NOT NULL\n",
    "GROUP BY v2ProductName\n",
    "HAVING SKU_count > 1\n",
    "ORDER BY SKU_count DESC"
   ]
  },
  {
   "cell_type": "markdown",
   "metadata": {},
   "source": [
    "We can see that 493 products are under this category. We can see the SKUs that these product names are related to."
   ]
  },
  {
   "cell_type": "markdown",
   "metadata": {},
   "source": [
    "## Your turn\n",
    "Find the SKUs that have multiple product names:"
   ]
  },
  {
   "cell_type": "code",
   "execution_count": 5,
   "metadata": {},
   "outputs": [
    {
     "data": {
      "text/html": [
       "<div>\n",
       "<style scoped>\n",
       "    .dataframe tbody tr th:only-of-type {\n",
       "        vertical-align: middle;\n",
       "    }\n",
       "\n",
       "    .dataframe tbody tr th {\n",
       "        vertical-align: top;\n",
       "    }\n",
       "\n",
       "    .dataframe thead th {\n",
       "        text-align: right;\n",
       "    }\n",
       "</style>\n",
       "<table border=\"1\" class=\"dataframe\">\n",
       "  <thead>\n",
       "    <tr style=\"text-align: right;\">\n",
       "      <th></th>\n",
       "      <th>productSKU</th>\n",
       "      <th>product_count</th>\n",
       "      <th>product_name</th>\n",
       "    </tr>\n",
       "  </thead>\n",
       "  <tbody>\n",
       "    <tr>\n",
       "      <th>0</th>\n",
       "      <td>GGOEGEVA022399</td>\n",
       "      <td>3</td>\n",
       "      <td>Micro Wireless Earbud,Micro Wireless Earbuds,A...</td>\n",
       "    </tr>\n",
       "    <tr>\n",
       "      <th>1</th>\n",
       "      <td>GGOEGCLB020832</td>\n",
       "      <td>3</td>\n",
       "      <td>Softsided Travel Pouch Set,Set of 3 Nested Tra...</td>\n",
       "    </tr>\n",
       "    <tr>\n",
       "      <th>2</th>\n",
       "      <td>GGOENEBJ079499</td>\n",
       "      <td>3</td>\n",
       "      <td>Nest® Learning Thermostat 3rd Gen-USA - Stainl...</td>\n",
       "    </tr>\n",
       "    <tr>\n",
       "      <th>3</th>\n",
       "      <td>9180752</td>\n",
       "      <td>3</td>\n",
       "      <td>Android 24 oz Contigo Bottle,Android 24 oz But...</td>\n",
       "    </tr>\n",
       "    <tr>\n",
       "      <th>4</th>\n",
       "      <td>GGOEGBMC056599</td>\n",
       "      <td>3</td>\n",
       "      <td>Waterpoof Gear Bag,Waterproof Gear Bag,Google ...</td>\n",
       "    </tr>\n",
       "    <tr>\n",
       "      <th>...</th>\n",
       "      <td>...</td>\n",
       "      <td>...</td>\n",
       "      <td>...</td>\n",
       "    </tr>\n",
       "    <tr>\n",
       "      <th>342</th>\n",
       "      <td>9180775</td>\n",
       "      <td>2</td>\n",
       "      <td>Google Pet Feeding Mat,Pet Feeding Mat</td>\n",
       "    </tr>\n",
       "    <tr>\n",
       "      <th>343</th>\n",
       "      <td>9182647</td>\n",
       "      <td>2</td>\n",
       "      <td>Google Women's Short Sleeve Badge Tee Ice Gray...</td>\n",
       "    </tr>\n",
       "    <tr>\n",
       "      <th>344</th>\n",
       "      <td>9180872</td>\n",
       "      <td>2</td>\n",
       "      <td>Collapsible Pet Bowl,Google Collapsible Pet Bowl</td>\n",
       "    </tr>\n",
       "    <tr>\n",
       "      <th>345</th>\n",
       "      <td>GGOEGAEJ030114</td>\n",
       "      <td>2</td>\n",
       "      <td>Google Women's Tank Top,Google Women's Tank To...</td>\n",
       "    </tr>\n",
       "    <tr>\n",
       "      <th>346</th>\n",
       "      <td>GGOEGAEJ028916</td>\n",
       "      <td>2</td>\n",
       "      <td>Google Women's Short Sleeve Hero Dark Grey,Goo...</td>\n",
       "    </tr>\n",
       "  </tbody>\n",
       "</table>\n",
       "<p>347 rows × 3 columns</p>\n",
       "</div>"
      ],
      "text/plain": [
       "         productSKU  product_count  \\\n",
       "0    GGOEGEVA022399              3   \n",
       "1    GGOEGCLB020832              3   \n",
       "2    GGOENEBJ079499              3   \n",
       "3           9180752              3   \n",
       "4    GGOEGBMC056599              3   \n",
       "..              ...            ...   \n",
       "342         9180775              2   \n",
       "343         9182647              2   \n",
       "344         9180872              2   \n",
       "345  GGOEGAEJ030114              2   \n",
       "346  GGOEGAEJ028916              2   \n",
       "\n",
       "                                          product_name  \n",
       "0    Micro Wireless Earbud,Micro Wireless Earbuds,A...  \n",
       "1    Softsided Travel Pouch Set,Set of 3 Nested Tra...  \n",
       "2    Nest® Learning Thermostat 3rd Gen-USA - Stainl...  \n",
       "3    Android 24 oz Contigo Bottle,Android 24 oz But...  \n",
       "4    Waterpoof Gear Bag,Waterproof Gear Bag,Google ...  \n",
       "..                                                 ...  \n",
       "342             Google Pet Feeding Mat,Pet Feeding Mat  \n",
       "343  Google Women's Short Sleeve Badge Tee Ice Gray...  \n",
       "344   Collapsible Pet Bowl,Google Collapsible Pet Bowl  \n",
       "345  Google Women's Tank Top,Google Women's Tank To...  \n",
       "346  Google Women's Short Sleeve Hero Dark Grey,Goo...  \n",
       "\n",
       "[347 rows x 3 columns]"
      ]
     },
     "execution_count": 5,
     "metadata": {},
     "output_type": "execute_result"
    }
   ],
   "source": []
  },
  {
   "cell_type": "code",
   "execution_count": 6,
   "metadata": {},
   "outputs": [],
   "source": [
    "# SOLUTION: Uncomment and execute the cell below to get help\n",
    "#disp(hint + '06-02-products')"
   ]
  }
 ],
 "metadata": {
  "environment": {
   "name": "common-cpu.m56",
   "type": "gcloud",
   "uri": "gcr.io/deeplearning-platform-release/base-cpu:m56"
  },
  "kernelspec": {
   "display_name": "Python 3 (ipykernel)",
   "language": "python",
   "name": "python3"
  },
  "language_info": {
   "codemirror_mode": {
    "name": "ipython",
    "version": 3
   },
   "file_extension": ".py",
   "mimetype": "text/x-python",
   "name": "python",
   "nbconvert_exporter": "python",
   "pygments_lexer": "ipython3",
   "version": "3.9.7"
  }
 },
 "nbformat": 4,
 "nbformat_minor": 4
}
